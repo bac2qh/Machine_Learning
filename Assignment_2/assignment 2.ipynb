{
 "cells": [
  {
   "cell_type": "code",
   "execution_count": 1,
   "metadata": {},
   "outputs": [],
   "source": [
    "# the following code is with reference to \n",
    "# https://github.com/yhat/DataGotham2013\n",
    "import pandas as pd\n",
    "import numpy as np\n",
    "%matplotlib inline\n",
    "import matplotlib.pyplot as plt\n",
    "import pylab as pl\n",
    "import re"
   ]
  },
  {
   "cell_type": "markdown",
   "metadata": {},
   "source": [
    "#### import data and build up a df with data_key inside "
   ]
  },
  {
   "cell_type": "code",
   "execution_count": 2,
   "metadata": {
    "scrolled": true
   },
   "outputs": [],
   "source": [
    "data = pd.read_csv(\"credit-data.csv\")\n",
    "data_key = pd.read_excel(\"Data Dictionary.xls\")\n",
    "data_key = data_key.iloc[:, 0:3].T.reset_index(drop=True)\n",
    "data_key.rename(columns = data_key.loc[0], inplace = True)\n",
    "data_key = data_key.drop([0])\n",
    "data_updated = pd.concat([data, data_key])\n",
    "data_updated.reset_index(drop = True, inplace = True)\n",
    "df = pd.concat([data_updated.iloc[41016:41018,:], data_updated.drop([41016,41017], axis=0)], axis=0)\n",
    "df = df.reset_index(drop = True)"
   ]
  },
  {
   "cell_type": "code",
   "execution_count": 3,
   "metadata": {},
   "outputs": [
    {
     "data": {
      "text/html": [
       "<div>\n",
       "<style scoped>\n",
       "    .dataframe tbody tr th:only-of-type {\n",
       "        vertical-align: middle;\n",
       "    }\n",
       "\n",
       "    .dataframe tbody tr th {\n",
       "        vertical-align: top;\n",
       "    }\n",
       "\n",
       "    .dataframe thead th {\n",
       "        text-align: right;\n",
       "    }\n",
       "</style>\n",
       "<table border=\"1\" class=\"dataframe\">\n",
       "  <thead>\n",
       "    <tr style=\"text-align: right;\">\n",
       "      <th></th>\n",
       "      <th>DebtRatio</th>\n",
       "      <th>MonthlyIncome</th>\n",
       "      <th>NumberOfDependents</th>\n",
       "      <th>NumberOfOpenCreditLinesAndLoans</th>\n",
       "      <th>NumberOfTime30-59DaysPastDueNotWorse</th>\n",
       "      <th>NumberOfTime60-89DaysPastDueNotWorse</th>\n",
       "      <th>NumberOfTimes90DaysLate</th>\n",
       "      <th>NumberRealEstateLoansOrLines</th>\n",
       "      <th>PersonID</th>\n",
       "      <th>RevolvingUtilizationOfUnsecuredLines</th>\n",
       "      <th>SeriousDlqin2yrs</th>\n",
       "      <th>age</th>\n",
       "      <th>zipcode</th>\n",
       "    </tr>\n",
       "  </thead>\n",
       "  <tbody>\n",
       "    <tr>\n",
       "      <th>0</th>\n",
       "      <td>Monthly debt payments, alimony,living costs di...</td>\n",
       "      <td>Monthly income</td>\n",
       "      <td>Number of dependents in family excluding thems...</td>\n",
       "      <td>Number of Open loans (installment like car loa...</td>\n",
       "      <td>Number of times borrower has been 30-59 days p...</td>\n",
       "      <td>Number of times borrower has been 60-89 days p...</td>\n",
       "      <td>Number of times borrower has been 90 days or m...</td>\n",
       "      <td>Number of mortgage and real estate loans inclu...</td>\n",
       "      <td>NaN</td>\n",
       "      <td>Total balance on credit cards and personal lin...</td>\n",
       "      <td>Person experienced 90 days past due delinquenc...</td>\n",
       "      <td>Age of borrower in years</td>\n",
       "      <td>zipcode of the borrower</td>\n",
       "    </tr>\n",
       "    <tr>\n",
       "      <th>1</th>\n",
       "      <td>percentage</td>\n",
       "      <td>real</td>\n",
       "      <td>integer</td>\n",
       "      <td>integer</td>\n",
       "      <td>integer</td>\n",
       "      <td>integer</td>\n",
       "      <td>integer</td>\n",
       "      <td>integer</td>\n",
       "      <td>NaN</td>\n",
       "      <td>percentage</td>\n",
       "      <td>Y/N</td>\n",
       "      <td>integer</td>\n",
       "      <td>interget/string</td>\n",
       "    </tr>\n",
       "    <tr>\n",
       "      <th>2</th>\n",
       "      <td>505</td>\n",
       "      <td>0</td>\n",
       "      <td>0</td>\n",
       "      <td>2</td>\n",
       "      <td>0</td>\n",
       "      <td>0</td>\n",
       "      <td>0</td>\n",
       "      <td>0</td>\n",
       "      <td>98976.0</td>\n",
       "      <td>1</td>\n",
       "      <td>0</td>\n",
       "      <td>55</td>\n",
       "      <td>60601</td>\n",
       "    </tr>\n",
       "    <tr>\n",
       "      <th>3</th>\n",
       "      <td>0.459565</td>\n",
       "      <td>15666</td>\n",
       "      <td>0</td>\n",
       "      <td>7</td>\n",
       "      <td>0</td>\n",
       "      <td>0</td>\n",
       "      <td>0</td>\n",
       "      <td>2</td>\n",
       "      <td>98991.0</td>\n",
       "      <td>0.547745</td>\n",
       "      <td>0</td>\n",
       "      <td>71</td>\n",
       "      <td>60601</td>\n",
       "    </tr>\n",
       "    <tr>\n",
       "      <th>4</th>\n",
       "      <td>0.0145204</td>\n",
       "      <td>4200</td>\n",
       "      <td>0</td>\n",
       "      <td>5</td>\n",
       "      <td>0</td>\n",
       "      <td>0</td>\n",
       "      <td>0</td>\n",
       "      <td>0</td>\n",
       "      <td>99012.0</td>\n",
       "      <td>0.0442802</td>\n",
       "      <td>0</td>\n",
       "      <td>51</td>\n",
       "      <td>60601</td>\n",
       "    </tr>\n",
       "  </tbody>\n",
       "</table>\n",
       "</div>"
      ],
      "text/plain": [
       "                                           DebtRatio   MonthlyIncome  \\\n",
       "0  Monthly debt payments, alimony,living costs di...  Monthly income   \n",
       "1                                         percentage            real   \n",
       "2                                                505               0   \n",
       "3                                           0.459565           15666   \n",
       "4                                          0.0145204            4200   \n",
       "\n",
       "                                  NumberOfDependents  \\\n",
       "0  Number of dependents in family excluding thems...   \n",
       "1                                            integer   \n",
       "2                                                  0   \n",
       "3                                                  0   \n",
       "4                                                  0   \n",
       "\n",
       "                     NumberOfOpenCreditLinesAndLoans  \\\n",
       "0  Number of Open loans (installment like car loa...   \n",
       "1                                            integer   \n",
       "2                                                  2   \n",
       "3                                                  7   \n",
       "4                                                  5   \n",
       "\n",
       "                NumberOfTime30-59DaysPastDueNotWorse  \\\n",
       "0  Number of times borrower has been 30-59 days p...   \n",
       "1                                            integer   \n",
       "2                                                  0   \n",
       "3                                                  0   \n",
       "4                                                  0   \n",
       "\n",
       "                NumberOfTime60-89DaysPastDueNotWorse  \\\n",
       "0  Number of times borrower has been 60-89 days p...   \n",
       "1                                            integer   \n",
       "2                                                  0   \n",
       "3                                                  0   \n",
       "4                                                  0   \n",
       "\n",
       "                             NumberOfTimes90DaysLate  \\\n",
       "0  Number of times borrower has been 90 days or m...   \n",
       "1                                            integer   \n",
       "2                                                  0   \n",
       "3                                                  0   \n",
       "4                                                  0   \n",
       "\n",
       "                        NumberRealEstateLoansOrLines  PersonID  \\\n",
       "0  Number of mortgage and real estate loans inclu...       NaN   \n",
       "1                                            integer       NaN   \n",
       "2                                                  0   98976.0   \n",
       "3                                                  2   98991.0   \n",
       "4                                                  0   99012.0   \n",
       "\n",
       "                RevolvingUtilizationOfUnsecuredLines  \\\n",
       "0  Total balance on credit cards and personal lin...   \n",
       "1                                         percentage   \n",
       "2                                                  1   \n",
       "3                                           0.547745   \n",
       "4                                          0.0442802   \n",
       "\n",
       "                                    SeriousDlqin2yrs  \\\n",
       "0  Person experienced 90 days past due delinquenc...   \n",
       "1                                                Y/N   \n",
       "2                                                  0   \n",
       "3                                                  0   \n",
       "4                                                  0   \n",
       "\n",
       "                        age                  zipcode  \n",
       "0  Age of borrower in years  zipcode of the borrower  \n",
       "1                   integer          interget/string  \n",
       "2                        55                    60601  \n",
       "3                        71                    60601  \n",
       "4                        51                    60601  "
      ]
     },
     "execution_count": 3,
     "metadata": {},
     "output_type": "execute_result"
    }
   ],
   "source": [
    "df.head()"
   ]
  },
  {
   "cell_type": "code",
   "execution_count": 4,
   "metadata": {},
   "outputs": [
    {
     "name": "stdout",
     "output_type": "stream",
     "text": [
      "<class 'pandas.core.frame.DataFrame'>\n",
      "RangeIndex: 41016 entries, 0 to 41015\n",
      "Data columns (total 13 columns):\n",
      "PersonID                                41016 non-null int64\n",
      "SeriousDlqin2yrs                        41016 non-null int64\n",
      "RevolvingUtilizationOfUnsecuredLines    41016 non-null float64\n",
      "age                                     41016 non-null int64\n",
      "zipcode                                 41016 non-null int64\n",
      "NumberOfTime30-59DaysPastDueNotWorse    41016 non-null int64\n",
      "DebtRatio                               41016 non-null float64\n",
      "MonthlyIncome                           33042 non-null float64\n",
      "NumberOfOpenCreditLinesAndLoans         41016 non-null int64\n",
      "NumberOfTimes90DaysLate                 41016 non-null int64\n",
      "NumberRealEstateLoansOrLines            41016 non-null int64\n",
      "NumberOfTime60-89DaysPastDueNotWorse    41016 non-null int64\n",
      "NumberOfDependents                      39979 non-null float64\n",
      "dtypes: float64(4), int64(9)\n",
      "memory usage: 4.1 MB\n"
     ]
    },
    {
     "data": {
      "text/html": [
       "<div>\n",
       "<style scoped>\n",
       "    .dataframe tbody tr th:only-of-type {\n",
       "        vertical-align: middle;\n",
       "    }\n",
       "\n",
       "    .dataframe tbody tr th {\n",
       "        vertical-align: top;\n",
       "    }\n",
       "\n",
       "    .dataframe thead th {\n",
       "        text-align: right;\n",
       "    }\n",
       "</style>\n",
       "<table border=\"1\" class=\"dataframe\">\n",
       "  <thead>\n",
       "    <tr style=\"text-align: right;\">\n",
       "      <th></th>\n",
       "      <th>PersonID</th>\n",
       "      <th>SeriousDlqin2yrs</th>\n",
       "      <th>RevolvingUtilizationOfUnsecuredLines</th>\n",
       "      <th>age</th>\n",
       "      <th>zipcode</th>\n",
       "      <th>NumberOfTime30-59DaysPastDueNotWorse</th>\n",
       "      <th>DebtRatio</th>\n",
       "      <th>MonthlyIncome</th>\n",
       "      <th>NumberOfOpenCreditLinesAndLoans</th>\n",
       "      <th>NumberOfTimes90DaysLate</th>\n",
       "      <th>NumberRealEstateLoansOrLines</th>\n",
       "      <th>NumberOfTime60-89DaysPastDueNotWorse</th>\n",
       "      <th>NumberOfDependents</th>\n",
       "    </tr>\n",
       "  </thead>\n",
       "  <tbody>\n",
       "    <tr>\n",
       "      <th>count</th>\n",
       "      <td>41016.000000</td>\n",
       "      <td>41016.000000</td>\n",
       "      <td>41016.00000</td>\n",
       "      <td>41016.000000</td>\n",
       "      <td>41016.000000</td>\n",
       "      <td>41016.000000</td>\n",
       "      <td>41016.000000</td>\n",
       "      <td>3.304200e+04</td>\n",
       "      <td>41016.000000</td>\n",
       "      <td>41016.000000</td>\n",
       "      <td>41016.000000</td>\n",
       "      <td>41016.000000</td>\n",
       "      <td>39979.000000</td>\n",
       "    </tr>\n",
       "    <tr>\n",
       "      <th>mean</th>\n",
       "      <td>115800.154598</td>\n",
       "      <td>0.161400</td>\n",
       "      <td>6.37587</td>\n",
       "      <td>51.683489</td>\n",
       "      <td>60623.824166</td>\n",
       "      <td>0.589233</td>\n",
       "      <td>331.458137</td>\n",
       "      <td>6.578996e+03</td>\n",
       "      <td>8.403477</td>\n",
       "      <td>0.419592</td>\n",
       "      <td>1.008801</td>\n",
       "      <td>0.371587</td>\n",
       "      <td>0.773231</td>\n",
       "    </tr>\n",
       "    <tr>\n",
       "      <th>std</th>\n",
       "      <td>28112.723511</td>\n",
       "      <td>0.367904</td>\n",
       "      <td>221.61895</td>\n",
       "      <td>14.746880</td>\n",
       "      <td>11.984357</td>\n",
       "      <td>5.205628</td>\n",
       "      <td>1296.109695</td>\n",
       "      <td>1.344683e+04</td>\n",
       "      <td>5.207324</td>\n",
       "      <td>5.190382</td>\n",
       "      <td>1.153826</td>\n",
       "      <td>5.169641</td>\n",
       "      <td>1.121269</td>\n",
       "    </tr>\n",
       "    <tr>\n",
       "      <th>min</th>\n",
       "      <td>22.000000</td>\n",
       "      <td>0.000000</td>\n",
       "      <td>0.00000</td>\n",
       "      <td>21.000000</td>\n",
       "      <td>60601.000000</td>\n",
       "      <td>0.000000</td>\n",
       "      <td>0.000000</td>\n",
       "      <td>0.000000e+00</td>\n",
       "      <td>0.000000</td>\n",
       "      <td>0.000000</td>\n",
       "      <td>0.000000</td>\n",
       "      <td>0.000000</td>\n",
       "      <td>0.000000</td>\n",
       "    </tr>\n",
       "    <tr>\n",
       "      <th>25%</th>\n",
       "      <td>106539.750000</td>\n",
       "      <td>0.000000</td>\n",
       "      <td>0.03431</td>\n",
       "      <td>41.000000</td>\n",
       "      <td>60618.000000</td>\n",
       "      <td>0.000000</td>\n",
       "      <td>0.176375</td>\n",
       "      <td>3.333000e+03</td>\n",
       "      <td>5.000000</td>\n",
       "      <td>0.000000</td>\n",
       "      <td>0.000000</td>\n",
       "      <td>0.000000</td>\n",
       "      <td>0.000000</td>\n",
       "    </tr>\n",
       "    <tr>\n",
       "      <th>50%</th>\n",
       "      <td>119901.500000</td>\n",
       "      <td>0.000000</td>\n",
       "      <td>0.18973</td>\n",
       "      <td>51.000000</td>\n",
       "      <td>60625.000000</td>\n",
       "      <td>0.000000</td>\n",
       "      <td>0.369736</td>\n",
       "      <td>5.250000e+03</td>\n",
       "      <td>8.000000</td>\n",
       "      <td>0.000000</td>\n",
       "      <td>1.000000</td>\n",
       "      <td>0.000000</td>\n",
       "      <td>0.000000</td>\n",
       "    </tr>\n",
       "    <tr>\n",
       "      <th>75%</th>\n",
       "      <td>134698.250000</td>\n",
       "      <td>0.000000</td>\n",
       "      <td>0.66716</td>\n",
       "      <td>62.000000</td>\n",
       "      <td>60629.000000</td>\n",
       "      <td>0.000000</td>\n",
       "      <td>0.866471</td>\n",
       "      <td>8.055750e+03</td>\n",
       "      <td>11.000000</td>\n",
       "      <td>0.000000</td>\n",
       "      <td>2.000000</td>\n",
       "      <td>0.000000</td>\n",
       "      <td>1.000000</td>\n",
       "    </tr>\n",
       "    <tr>\n",
       "      <th>max</th>\n",
       "      <td>149999.000000</td>\n",
       "      <td>1.000000</td>\n",
       "      <td>22000.00000</td>\n",
       "      <td>109.000000</td>\n",
       "      <td>60644.000000</td>\n",
       "      <td>98.000000</td>\n",
       "      <td>106885.000000</td>\n",
       "      <td>1.794060e+06</td>\n",
       "      <td>56.000000</td>\n",
       "      <td>98.000000</td>\n",
       "      <td>32.000000</td>\n",
       "      <td>98.000000</td>\n",
       "      <td>13.000000</td>\n",
       "    </tr>\n",
       "  </tbody>\n",
       "</table>\n",
       "</div>"
      ],
      "text/plain": [
       "            PersonID  SeriousDlqin2yrs  RevolvingUtilizationOfUnsecuredLines  \\\n",
       "count   41016.000000      41016.000000                           41016.00000   \n",
       "mean   115800.154598          0.161400                               6.37587   \n",
       "std     28112.723511          0.367904                             221.61895   \n",
       "min        22.000000          0.000000                               0.00000   \n",
       "25%    106539.750000          0.000000                               0.03431   \n",
       "50%    119901.500000          0.000000                               0.18973   \n",
       "75%    134698.250000          0.000000                               0.66716   \n",
       "max    149999.000000          1.000000                           22000.00000   \n",
       "\n",
       "                age       zipcode  NumberOfTime30-59DaysPastDueNotWorse  \\\n",
       "count  41016.000000  41016.000000                          41016.000000   \n",
       "mean      51.683489  60623.824166                              0.589233   \n",
       "std       14.746880     11.984357                              5.205628   \n",
       "min       21.000000  60601.000000                              0.000000   \n",
       "25%       41.000000  60618.000000                              0.000000   \n",
       "50%       51.000000  60625.000000                              0.000000   \n",
       "75%       62.000000  60629.000000                              0.000000   \n",
       "max      109.000000  60644.000000                             98.000000   \n",
       "\n",
       "           DebtRatio  MonthlyIncome  NumberOfOpenCreditLinesAndLoans  \\\n",
       "count   41016.000000   3.304200e+04                     41016.000000   \n",
       "mean      331.458137   6.578996e+03                         8.403477   \n",
       "std      1296.109695   1.344683e+04                         5.207324   \n",
       "min         0.000000   0.000000e+00                         0.000000   \n",
       "25%         0.176375   3.333000e+03                         5.000000   \n",
       "50%         0.369736   5.250000e+03                         8.000000   \n",
       "75%         0.866471   8.055750e+03                        11.000000   \n",
       "max    106885.000000   1.794060e+06                        56.000000   \n",
       "\n",
       "       NumberOfTimes90DaysLate  NumberRealEstateLoansOrLines  \\\n",
       "count             41016.000000                  41016.000000   \n",
       "mean                  0.419592                      1.008801   \n",
       "std                   5.190382                      1.153826   \n",
       "min                   0.000000                      0.000000   \n",
       "25%                   0.000000                      0.000000   \n",
       "50%                   0.000000                      1.000000   \n",
       "75%                   0.000000                      2.000000   \n",
       "max                  98.000000                     32.000000   \n",
       "\n",
       "       NumberOfTime60-89DaysPastDueNotWorse  NumberOfDependents  \n",
       "count                          41016.000000        39979.000000  \n",
       "mean                               0.371587            0.773231  \n",
       "std                                5.169641            1.121269  \n",
       "min                                0.000000            0.000000  \n",
       "25%                                0.000000            0.000000  \n",
       "50%                                0.000000            0.000000  \n",
       "75%                                0.000000            1.000000  \n",
       "max                               98.000000           13.000000  "
      ]
     },
     "execution_count": 4,
     "metadata": {},
     "output_type": "execute_result"
    }
   ],
   "source": [
    "data.info(verbose = True)\n",
    "data.describe()"
   ]
  },
  {
   "cell_type": "markdown",
   "metadata": {},
   "source": [
    "average age is 51.68 mean monthly income is roughly 6578 dollars and the median monthly income is 5250"
   ]
  },
  {
   "cell_type": "code",
   "execution_count": 5,
   "metadata": {},
   "outputs": [
    {
     "name": "stdout",
     "output_type": "stream",
     "text": [
      "9011\n"
     ]
    },
    {
     "data": {
      "text/html": [
       "<div>\n",
       "<style scoped>\n",
       "    .dataframe tbody tr th:only-of-type {\n",
       "        vertical-align: middle;\n",
       "    }\n",
       "\n",
       "    .dataframe tbody tr th {\n",
       "        vertical-align: top;\n",
       "    }\n",
       "\n",
       "    .dataframe thead th {\n",
       "        text-align: right;\n",
       "    }\n",
       "</style>\n",
       "<table border=\"1\" class=\"dataframe\">\n",
       "  <thead>\n",
       "    <tr style=\"text-align: right;\">\n",
       "      <th>value</th>\n",
       "      <th>False</th>\n",
       "      <th>True</th>\n",
       "    </tr>\n",
       "    <tr>\n",
       "      <th>variable</th>\n",
       "      <th></th>\n",
       "      <th></th>\n",
       "    </tr>\n",
       "  </thead>\n",
       "  <tbody>\n",
       "    <tr>\n",
       "      <th>DebtRatio</th>\n",
       "      <td>41016</td>\n",
       "      <td>0</td>\n",
       "    </tr>\n",
       "    <tr>\n",
       "      <th>MonthlyIncome</th>\n",
       "      <td>33042</td>\n",
       "      <td>7974</td>\n",
       "    </tr>\n",
       "    <tr>\n",
       "      <th>NumberOfDependents</th>\n",
       "      <td>39979</td>\n",
       "      <td>1037</td>\n",
       "    </tr>\n",
       "    <tr>\n",
       "      <th>NumberOfOpenCreditLinesAndLoans</th>\n",
       "      <td>41016</td>\n",
       "      <td>0</td>\n",
       "    </tr>\n",
       "    <tr>\n",
       "      <th>NumberOfTime30-59DaysPastDueNotWorse</th>\n",
       "      <td>41016</td>\n",
       "      <td>0</td>\n",
       "    </tr>\n",
       "    <tr>\n",
       "      <th>NumberOfTime60-89DaysPastDueNotWorse</th>\n",
       "      <td>41016</td>\n",
       "      <td>0</td>\n",
       "    </tr>\n",
       "    <tr>\n",
       "      <th>NumberOfTimes90DaysLate</th>\n",
       "      <td>41016</td>\n",
       "      <td>0</td>\n",
       "    </tr>\n",
       "    <tr>\n",
       "      <th>NumberRealEstateLoansOrLines</th>\n",
       "      <td>41016</td>\n",
       "      <td>0</td>\n",
       "    </tr>\n",
       "    <tr>\n",
       "      <th>PersonID</th>\n",
       "      <td>41016</td>\n",
       "      <td>0</td>\n",
       "    </tr>\n",
       "    <tr>\n",
       "      <th>RevolvingUtilizationOfUnsecuredLines</th>\n",
       "      <td>41016</td>\n",
       "      <td>0</td>\n",
       "    </tr>\n",
       "    <tr>\n",
       "      <th>SeriousDlqin2yrs</th>\n",
       "      <td>41016</td>\n",
       "      <td>0</td>\n",
       "    </tr>\n",
       "    <tr>\n",
       "      <th>age</th>\n",
       "      <td>41016</td>\n",
       "      <td>0</td>\n",
       "    </tr>\n",
       "    <tr>\n",
       "      <th>zipcode</th>\n",
       "      <td>41016</td>\n",
       "      <td>0</td>\n",
       "    </tr>\n",
       "  </tbody>\n",
       "</table>\n",
       "</div>"
      ],
      "text/plain": [
       "value                                 False  True \n",
       "variable                                          \n",
       "DebtRatio                             41016      0\n",
       "MonthlyIncome                         33042   7974\n",
       "NumberOfDependents                    39979   1037\n",
       "NumberOfOpenCreditLinesAndLoans       41016      0\n",
       "NumberOfTime30-59DaysPastDueNotWorse  41016      0\n",
       "NumberOfTime60-89DaysPastDueNotWorse  41016      0\n",
       "NumberOfTimes90DaysLate               41016      0\n",
       "NumberRealEstateLoansOrLines          41016      0\n",
       "PersonID                              41016      0\n",
       "RevolvingUtilizationOfUnsecuredLines  41016      0\n",
       "SeriousDlqin2yrs                      41016      0\n",
       "age                                   41016      0\n",
       "zipcode                               41016      0"
      ]
     },
     "execution_count": 5,
     "metadata": {},
     "output_type": "execute_result"
    }
   ],
   "source": [
    "df_1 = pd.melt(data)\n",
    "null_variables = df_1.value.isnull()\n",
    "print(null_variables.sum())\n",
    "pd.crosstab(df_1.variable, null_variables)"
   ]
  },
  {
   "cell_type": "code",
   "execution_count": 6,
   "metadata": {},
   "outputs": [
    {
     "data": {
      "text/plain": [
       "<matplotlib.legend.Legend at 0x7fe71cb05390>"
      ]
     },
     "execution_count": 6,
     "metadata": {},
     "output_type": "execute_result"
    },
    {
     "data": {
      "image/png": "[encoded data removed]",
      "text/plain": [
       "<matplotlib.figure.Figure at 0x7fe71cbcc8d0>"
      ]
     },
     "metadata": {},
     "output_type": "display_data"
    }
   ],
   "source": [
    "data.age.hist(bins=40, grid=False, linewidth=0.1)\n",
    "plt.title('Age Distribution')\n",
    "plt.xlabel('Age')\n",
    "plt.ylabel('Count')\n",
    "plt.axvline(data.age.mean(), label='Avg: {}'.format(int(data.age.mean())), linestyle='dashed', linewidth=1)\n",
    "plt.legend()"
   ]
  },
  {
   "cell_type": "code",
   "execution_count": 7,
   "metadata": {},
   "outputs": [
    {
     "data": {
      "text/plain": [
       "<matplotlib.legend.Legend at 0x7fe71cbc0438>"
      ]
     },
     "execution_count": 7,
     "metadata": {},
     "output_type": "execute_result"
    },
    {
     "data": {
      "image/png": "[encoded data removed]",
      "text/plain": [
       "<matplotlib.figure.Figure at 0x7fe71cbc0550>"
      ]
     },
     "metadata": {},
     "output_type": "display_data"
    }
   ],
   "source": [
    "data.age.hist(bins=40, grid=False, linewidth=0.1)\n",
    "plt.title('Credit Lines and Loans')\n",
    "plt.xlabel('Number open credit lines and loans')\n",
    "plt.ylabel('Count')\n",
    "plt.axvline(data.NumberOfOpenCreditLinesAndLoans.mean(), label='Avg: {}'.format(int(data.NumberOfOpenCreditLinesAndLoans.mean())), linestyle='dashed', linewidth=1)\n",
    "plt.legend()"
   ]
  },
  {
   "cell_type": "code",
   "execution_count": 8,
   "metadata": {},
   "outputs": [],
   "source": [
    "# fill in missing values with means\n",
    "for i in range(len(data.columns)):\n",
    "    if data[data.columns[i]].hasnans:\n",
    "        data[data.columns[i]].fillna(data[data.columns[i]].mean(), inplace = True)"
   ]
  },
  {
   "cell_type": "code",
   "execution_count": 9,
   "metadata": {},
   "outputs": [
    {
     "name": "stdout",
     "output_type": "stream",
     "text": [
      "False\n",
      "False\n",
      "False\n",
      "False\n",
      "False\n",
      "False\n",
      "False\n",
      "False\n",
      "False\n",
      "False\n",
      "False\n",
      "False\n",
      "False\n"
     ]
    }
   ],
   "source": [
    "for i in range(len(data.columns)):\n",
    "    print(data[data.columns[i]].hasnans)"
   ]
  },
  {
   "cell_type": "markdown",
   "metadata": {},
   "source": [
    "#### Generate Features/Predictors: For this assignment, you should write \n",
    "1. one function that can discretize a continuous variable and \n",
    "2. one function that can take a categorical variable and create binary/dummy variables from it. \n",
    "#### Apply them to at least one variable each in this data.\n"
   ]
  },
  {
   "cell_type": "code",
   "execution_count": 10,
   "metadata": {},
   "outputs": [
    {
     "name": "stderr",
     "output_type": "stream",
     "text": [
      "/home/bac2qh/anaconda3/lib/python3.6/site-packages/sklearn/cross_validation.py:41: DeprecationWarning: This module was deprecated in version 0.18 in favor of the model_selection module into which all the refactored classes and functions are moved. Also note that the interface of the new CV iterators are different from that of this module. This module will be removed in 0.20.\n",
      "  \"This module will be removed in 0.20.\", DeprecationWarning)\n"
     ]
    }
   ],
   "source": [
    "import sklearn\n",
    "from sklearn.cross_validation import train_test_split\n",
    "from sklearn.neighbors import KNeighborsClassifier\n",
    "from sklearn.linear_model import LogisticRegression\n",
    "from sklearn.tree import DecisionTreeClassifier\n",
    "from sklearn import metrics\n",
    "from sklearn.metrics import (roc_curve, auc, classification_report, confusion_matrix)\n",
    "import pprint\n",
    "pp = pprint.PrettyPrinter(indent=2)"
   ]
  },
  {
   "cell_type": "code",
   "execution_count": 11,
   "metadata": {
    "scrolled": true
   },
   "outputs": [
    {
     "data": {
      "text/plain": [
       "21"
      ]
     },
     "execution_count": 11,
     "metadata": {},
     "output_type": "execute_result"
    }
   ],
   "source": [
    "min(data.age)"
   ]
  },
  {
   "cell_type": "code",
   "execution_count": 12,
   "metadata": {
    "scrolled": true
   },
   "outputs": [
    {
     "data": {
      "text/plain": [
       "88"
      ]
     },
     "execution_count": 12,
     "metadata": {},
     "output_type": "execute_result"
    }
   ],
   "source": [
    "109 - 21"
   ]
  },
  {
   "cell_type": "code",
   "execution_count": 13,
   "metadata": {},
   "outputs": [],
   "source": [
    "# divide 21 - 109 into 8 groups\n",
    "\n",
    "def discretize_cont_var(col_name, bins, group_name):\n",
    "    new_var = col_name + '_group'\n",
    "    data[new_var] = pd.cut(data[col_name], bins, labels = group_name)\n",
    "    \n",
    "age_group = [\"21_32\", \"33_43\", \"44_54\", \"55_65\", \"66_76\", \"77_87\", \"88_98\", \"99_109\"]\n",
    "\n",
    "discretize_cont_var('age', 8, age_group)\n"
   ]
  },
  {
   "cell_type": "code",
   "execution_count": 14,
   "metadata": {},
   "outputs": [
    {
     "name": "stdout",
     "output_type": "stream",
     "text": [
      "     age age_group\n",
      "150   21     21_32 \n",
      "\n",
      "    age age_group\n",
      "16   32     21_32 \n",
      "\n",
      "    age age_group\n",
      "23   43     33_43 \n",
      "\n",
      "    age age_group\n",
      "56   54     44_54 \n",
      "\n",
      "    age age_group\n",
      "86   65     55_65 \n",
      "\n",
      "    age age_group\n",
      "19   76     66_76 \n",
      "\n",
      "     age age_group\n",
      "450   87     77_87 \n",
      "\n",
      "       age age_group\n",
      "21972   98     88_98 \n",
      "\n"
     ]
    }
   ],
   "source": [
    "# check the validation of descretization \n",
    "for i in [21, 32, 43, 54, 65, 76, 87, 98]:\n",
    "    print(data[['age','age_group']][data.age == i].head(1), '\\n')"
   ]
  },
  {
   "cell_type": "code",
   "execution_count": 15,
   "metadata": {},
   "outputs": [
    {
     "data": {
      "text/html": [
       "<div>\n",
       "<style scoped>\n",
       "    .dataframe tbody tr th:only-of-type {\n",
       "        vertical-align: middle;\n",
       "    }\n",
       "\n",
       "    .dataframe tbody tr th {\n",
       "        vertical-align: top;\n",
       "    }\n",
       "\n",
       "    .dataframe thead th {\n",
       "        text-align: right;\n",
       "    }\n",
       "</style>\n",
       "<table border=\"1\" class=\"dataframe\">\n",
       "  <thead>\n",
       "    <tr style=\"text-align: right;\">\n",
       "      <th></th>\n",
       "      <th>0</th>\n",
       "      <th>1</th>\n",
       "    </tr>\n",
       "  </thead>\n",
       "  <tbody>\n",
       "    <tr>\n",
       "      <th>0</th>\n",
       "      <td>1</td>\n",
       "      <td>0</td>\n",
       "    </tr>\n",
       "    <tr>\n",
       "      <th>1</th>\n",
       "      <td>1</td>\n",
       "      <td>0</td>\n",
       "    </tr>\n",
       "    <tr>\n",
       "      <th>2</th>\n",
       "      <td>1</td>\n",
       "      <td>0</td>\n",
       "    </tr>\n",
       "    <tr>\n",
       "      <th>3</th>\n",
       "      <td>1</td>\n",
       "      <td>0</td>\n",
       "    </tr>\n",
       "    <tr>\n",
       "      <th>4</th>\n",
       "      <td>1</td>\n",
       "      <td>0</td>\n",
       "    </tr>\n",
       "  </tbody>\n",
       "</table>\n",
       "</div>"
      ],
      "text/plain": [
       "   0  1\n",
       "0  1  0\n",
       "1  1  0\n",
       "2  1  0\n",
       "3  1  0\n",
       "4  1  0"
      ]
     },
     "execution_count": 15,
     "metadata": {},
     "output_type": "execute_result"
    }
   ],
   "source": [
    "def cat_var(series):\n",
    "    return pd.get_dummies(series)\n",
    "\n",
    "cat_var(data.SeriousDlqin2yrs).head()"
   ]
  },
  {
   "cell_type": "markdown",
   "metadata": {},
   "source": [
    "#### Build Classifier: For this assignment, select any classifier you feel comfortable with (Logistic Regression for example or Decision Trees)"
   ]
  },
  {
   "cell_type": "code",
   "execution_count": 16,
   "metadata": {
    "scrolled": false
   },
   "outputs": [
    {
     "data": {
      "text/plain": [
       "Index(['DebtRatio', 'MonthlyIncome', 'NumberOfDependents',\n",
       "       'NumberOfOpenCreditLinesAndLoans',\n",
       "       'NumberOfTime30-59DaysPastDueNotWorse',\n",
       "       'NumberOfTime60-89DaysPastDueNotWorse', 'NumberOfTimes90DaysLate',\n",
       "       'NumberRealEstateLoansOrLines', 'PersonID',\n",
       "       'RevolvingUtilizationOfUnsecuredLines', 'SeriousDlqin2yrs', 'age',\n",
       "       'zipcode'],\n",
       "      dtype='object')"
      ]
     },
     "execution_count": 16,
     "metadata": {},
     "output_type": "execute_result"
    }
   ],
   "source": [
    "df.columns"
   ]
  },
  {
   "cell_type": "code",
   "execution_count": 17,
   "metadata": {},
   "outputs": [
    {
     "name": "stdout",
     "output_type": "stream",
     "text": [
      "DebtRatio  -  Monthly debt payments, alimony,living costs divided by monthy gross income \n",
      "\n",
      "MonthlyIncome  -  Monthly income \n",
      "\n",
      "NumberOfDependents  -  Number of dependents in family excluding themselves (spouse, children etc.) \n",
      "\n",
      "age  -  Age of borrower in years \n",
      "\n",
      "NumberOfOpenCreditLinesAndLoans  -  Number of Open loans (installment like car loan or mortgage) and Lines of credit (e.g. credit cards) \n",
      "\n",
      "RevolvingUtilizationOfUnsecuredLines  -  Total balance on credit cards and personal lines of credit except real estate and no installment debt like car loans divided by the sum of credit limits \n",
      "\n"
     ]
    }
   ],
   "source": [
    "# the six parameters I would like to study\n",
    "for i in [\"DebtRatio\", \"MonthlyIncome\", \"NumberOfDependents\", \"age\", \"NumberOfOpenCreditLinesAndLoans\"\n",
    "         , \"RevolvingUtilizationOfUnsecuredLines\"]:\n",
    "    print(i, \" - \", df.loc[0, i], '\\n')"
   ]
  },
  {
   "cell_type": "code",
   "execution_count": 18,
   "metadata": {},
   "outputs": [],
   "source": [
    "classifiers = [KNeighborsClassifier(), LogisticRegression()]\n",
    "features = ['RevolvingUtilizationOfUnsecuredLines', 'age', 'DebtRatio',\n",
    "            'MonthlyIncome','NumberOfOpenCreditLinesAndLoans', 'NumberOfDependents']"
   ]
  },
  {
   "cell_type": "code",
   "execution_count": 19,
   "metadata": {},
   "outputs": [
    {
     "data": {
      "text/plain": [
       "KNeighborsClassifier(algorithm='auto', leaf_size=30, metric='minkowski',\n",
       "           metric_params=None, n_jobs=1, n_neighbors=10, p=2,\n",
       "           weights='uniform')"
      ]
     },
     "execution_count": 19,
     "metadata": {},
     "output_type": "execute_result"
    }
   ],
   "source": [
    "clf = KNeighborsClassifier(n_neighbors=10)\n",
    "clf.fit(data[features], data.SeriousDlqin2yrs)"
   ]
  },
  {
   "cell_type": "markdown",
   "metadata": {},
   "source": [
    "#### Evaluate Classifier: you can use any metric you choose for this assignment (accuracy is the easiest one). Feel free to evaluate it on the same data you built the model on (this is not a good idea in general but for this assignment, it is fine). We haven't covered models and evaluation yet, so don't worry about creating validation sets or cross-validation.\n"
   ]
  },
  {
   "cell_type": "markdown",
   "metadata": {},
   "source": [
    "I think accuracy, precision and recall rate are good metrics for this assignment. "
   ]
  },
  {
   "cell_type": "code",
   "execution_count": 20,
   "metadata": {},
   "outputs": [
    {
     "name": "stdout",
     "output_type": "stream",
     "text": [
      "('             precision    recall  f1-score   support\\n'\n",
      " '\\n'\n",
      " '          0       0.84      1.00      0.91     34396\\n'\n",
      " '          1       0.66      0.04      0.07      6620\\n'\n",
      " '\\n'\n",
      " 'avg / total       0.81      0.84      0.78     41016\\n')\n"
     ]
    }
   ],
   "source": [
    "pp.pprint(classification_report(data.SeriousDlqin2yrs, clf.predict(data[features]), labels=[0, 1]))"
   ]
  },
  {
   "cell_type": "markdown",
   "metadata": {},
   "source": [
    "precision is 0.81 and recall is 0.84. The metrics seems good and balanced. "
   ]
  }
 ],
 "metadata": {
  "kernelspec": {
   "display_name": "Python 3",
   "language": "python",
   "name": "python3"
  },
  "language_info": {
   "codemirror_mode": {
    "name": "ipython",
    "version": 3
   },
   "file_extension": ".py",
   "mimetype": "text/x-python",
   "name": "python",
   "nbconvert_exporter": "python",
   "pygments_lexer": "ipython3",
   "version": "3.6.2"
  }
 },
 "nbformat": 4,
 "nbformat_minor": 2
}
